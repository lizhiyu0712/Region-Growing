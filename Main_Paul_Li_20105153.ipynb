{
 "cells": [
  {
   "cell_type": "code",
   "execution_count": null,
   "id": "6b7d7f99-934b-47c5-a6aa-5ad72c2b0b3a",
   "metadata": {},
   "outputs": [],
   "source": []
  },
  {
   "cell_type": "markdown",
   "id": "63c30a2c-fba0-439f-b8e2-43a4da11b680",
   "metadata": {},
   "source": [
    "# Prelab2 \n"
   ]
  },
  {
   "cell_type": "markdown",
   "id": "a781af67-f908-4d4f-9cc7-6465bc714e48",
   "metadata": {},
   "source": [
    "## import all the needed functions"
   ]
  },
  {
   "cell_type": "code",
   "execution_count": 1,
   "id": "32c8f519-881f-4d62-989c-cfee8d8c00d0",
   "metadata": {},
   "outputs": [],
   "source": [
    "import cv2 as cv\n",
    "import numpy as np\n",
    "import sklearn as sk\n",
    "from matplotlib import pyplot as plt"
   ]
  },
  {
   "cell_type": "markdown",
   "id": "dba07966-a628-4fa2-8559-3c93c8a9d7e6",
   "metadata": {},
   "source": [
    "## import image "
   ]
  },
  {
   "cell_type": "code",
   "execution_count": 2,
   "id": "634fe4a8-4f15-4a58-a7d1-bd1477a7acef",
   "metadata": {},
   "outputs": [],
   "source": [
    "image = cv.imread(\"baboon.png\")\n",
    "# change to sasori picture:\n",
    "# image = cv.imread(\"sasori.jpg\")"
   ]
  },
  {
   "cell_type": "markdown",
   "id": "9d0d10c6-648c-4ce4-abef-f42be288677d",
   "metadata": {},
   "source": [
    "## make the global callback functions"
   ]
  },
  {
   "cell_type": "code",
   "execution_count": 3,
   "id": "cf00a360-43c5-4199-8d2f-65a9d7a4deb3",
   "metadata": {},
   "outputs": [],
   "source": [
    "def call_back(*args):\n",
    "    threshold = cv.getTrackbarPos(\"Intensity\", \"Controls\")"
   ]
  },
  {
   "cell_type": "markdown",
   "id": "eb7f51bd-18e5-45af-a421-a1ecbfe94034",
   "metadata": {},
   "source": [
    "## function to calculate the difference"
   ]
  },
  {
   "cell_type": "code",
   "execution_count": 4,
   "id": "128bebc9-2acf-4c1a-a565-e1dfae8a6392",
   "metadata": {},
   "outputs": [],
   "source": [
    "def diff(x, y):\n",
    "    if(x<y):\n",
    "        return y-x\n",
    "    else:\n",
    "        return x-y"
   ]
  },
  {
   "cell_type": "markdown",
   "id": "8481a0cc-16ae-47f1-a6c1-03be1952eb1e",
   "metadata": {},
   "source": [
    "## function to check the validation of the point, compare the seed's BGR number to neigbors' BGR number to check if the growth is valid (homogeneity criterion)"
   ]
  },
  {
   "cell_type": "code",
   "execution_count": 5,
   "id": "04545d43-eacb-4c85-a90f-dbdd030a517f",
   "metadata": {},
   "outputs": [],
   "source": [
    "def valid_check(seed, point, threshold):\n",
    "    point = image[point[0]][point[1]]\n",
    "    return((diff(seed[0], point[0]) <= threshold) and (diff(seed[1], point[1]) <= threshold) and (diff(seed[2], point[2]) <= threshold))"
   ]
  },
  {
   "cell_type": "markdown",
   "id": "315db6f5-47bc-44cf-95f0-a5f340a5c096",
   "metadata": {},
   "source": [
    "## make the flood fill function which check the neigbors and grow accordingly, and use 4-connectivity (type of neighborhood connectivity)"
   ]
  },
  {
   "cell_type": "code",
   "execution_count": 6,
   "id": "01ab3331-2897-4092-90ae-d3989afc3167",
   "metadata": {},
   "outputs": [],
   "source": [
    "def flood_fill(event, x, y, flags, param):\n",
    "    if event == cv.EVENT_LBUTTONUP:\n",
    "        print(\"run\")\n",
    "        check = np.zeros([512,512])\n",
    "        threshold = cv.getTrackbarPos(\"Intensity\", \"Controls\")\n",
    "        seed = [y,x]\n",
    "        check[y,x] = 1\n",
    "        seed = np.copy(image[y][x])\n",
    "        stack.append([y,x])\n",
    "        check_pixel = 0\n",
    "    threshold = cv.getTrackbarPos(\"Intensity\", \"Controls\") \n",
    "    pixel_number = 0\n",
    "    while(len(stack) != 0):\n",
    "        point = stack.pop()                                   \n",
    "        if(valid_check(seed, point, threshold)):\n",
    "            image[point[0],point[1]] = [255,0,0]\n",
    "            pixel_number += 1\n",
    "            #find neigbor\n",
    "            up_pixel = [point[0],min(point[1] + 1, image_size[1] -1)]  \n",
    "            right_pixel = [min(point[0] + 1, image_size[0] -1),point[1]]  \n",
    "            left_pixel = [max(point[0] - 1, 0),point[1]]             \n",
    "            down_pixel = [point[0],max(point[1] - 1, 0)]             \n",
    "            #grow function\n",
    "            growth(seed,up_pixel,threshold,check)\n",
    "            growth(seed,right_pixel,threshold,check)\n",
    "            growth(seed,left_pixel,threshold,check)\n",
    "            growth(seed,down_pixel,threshold,check)"
   ]
  },
  {
   "cell_type": "markdown",
   "id": "e96cc995-d0ff-4fcf-9333-35e57ee3eaee",
   "metadata": {},
   "source": [
    "## function to check if it is okay to grow"
   ]
  },
  {
   "cell_type": "code",
   "execution_count": 7,
   "id": "c48a4a88-e560-4c67-a86e-7570f2acbafc",
   "metadata": {},
   "outputs": [],
   "source": [
    "def growth(seed, temp, threshold,check):\n",
    "    if(valid_check(seed, temp, threshold) and not (check[temp[0]][temp[1]] == 1)):\n",
    "        stack.append(temp)                 \n",
    "        check[temp[0]][temp[1]] = 1"
   ]
  },
  {
   "cell_type": "markdown",
   "id": "34824846-e6a0-4f7a-9fbb-0b8e5f1f176a",
   "metadata": {},
   "source": [
    "## main function"
   ]
  },
  {
   "cell_type": "code",
   "execution_count": 8,
   "id": "5cb87089-4587-4a5f-a4c6-1ba6e812b33b",
   "metadata": {},
   "outputs": [
    {
     "name": "stdout",
     "output_type": "stream",
     "text": [
      "run\n",
      "run\n",
      "run\n"
     ]
    }
   ],
   "source": [
    "stack = []\n",
    "threshold = 0\n",
    "image_size = [image.shape[0], image.shape[1]]\n",
    "cv.namedWindow('Controls', cv.WINDOW_NORMAL)\n",
    "cv.resizeWindow('Controls', 800, 50)\n",
    "cv.createTrackbar(\"Intensity\", 'Controls', 1, 255, call_back)\n",
    "while True:\n",
    "    cv.imshow(\"Baboon\", image)\n",
    "    cv.setMouseCallback(\"Baboon\", flood_fill, [stack,image])\n",
    "    a = cv.waitKey(1)\n",
    "    #esc to exit\n",
    "    if a == 27: \n",
    "        break\n",
    "cv.destroyAllWindows()"
   ]
  },
  {
   "cell_type": "code",
   "execution_count": null,
   "id": "62835d0c-22ee-4b52-b6bc-be289d9cf137",
   "metadata": {},
   "outputs": [],
   "source": []
  },
  {
   "cell_type": "code",
   "execution_count": null,
   "id": "b4a3b530-837e-4ff3-b1a1-8ad16bacd27c",
   "metadata": {},
   "outputs": [],
   "source": []
  }
 ],
 "metadata": {
  "kernelspec": {
   "display_name": "Python 3",
   "language": "python",
   "name": "python3"
  },
  "language_info": {
   "codemirror_mode": {
    "name": "ipython",
    "version": 3
   },
   "file_extension": ".py",
   "mimetype": "text/x-python",
   "name": "python",
   "nbconvert_exporter": "python",
   "pygments_lexer": "ipython3",
   "version": "3.8.8"
  }
 },
 "nbformat": 4,
 "nbformat_minor": 5
}
